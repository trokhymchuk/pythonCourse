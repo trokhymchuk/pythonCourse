{
  "nbformat": 4,
  "nbformat_minor": 0,
  "metadata": {
    "colab": {
      "provenance": []
    },
    "kernelspec": {
      "name": "python3",
      "display_name": "Python 3"
    },
    "language_info": {
      "name": "python"
    }
  },
  "cells": [
    {
      "cell_type": "markdown",
      "source": [
        "# I. OOP"
      ],
      "metadata": {
        "id": "5qV_sehzFCTp"
      }
    },
    {
      "cell_type": "markdown",
      "source": [
        "1. (6б). Створіть клас Building, додайте три атрибути, один з яких має значення за замовчуванням та два методи на свій розсуд."
      ],
      "metadata": {
        "id": "tx_U_hOALyfg"
      }
    },
    {
      "cell_type": "code",
      "source": [
        "class Building:\n",
        "  def __init__(self, floors, entrances, constructed = True):\n",
        "    self.floors = floors\n",
        "    self.entrances = entrances\n",
        "    self.constructed = constructed\n",
        "\n",
        "  def isConstructed(self):\n",
        "    return self.constructed\n",
        "\n",
        "  def construct(self):\n",
        "    self.constructed = True\n",
        "\n",
        "  def __str__(self):\n",
        "      return f\"Building(floors='{self.floors}', entrances={self.entrances}, constructed={self.constructed})\"\n",
        "\n",
        "\n",
        "building = Building(16, 2, False)\n",
        "print(building)\n",
        "building.construct()\n",
        "print(building)"
      ],
      "metadata": {
        "id": "-Vf895KaL88N",
        "colab": {
          "base_uri": "https://localhost:8080/"
        },
        "outputId": "d359eaa3-47a0-44f8-bb4a-b5d8808fc8ad"
      },
      "execution_count": 20,
      "outputs": [
        {
          "output_type": "stream",
          "name": "stdout",
          "text": [
            "Building(floors='16', entrances=2, constructed=False)\n",
            "Building(floors='16', entrances=2, constructed=True)\n"
          ]
        }
      ]
    },
    {
      "cell_type": "markdown",
      "source": [
        "2. (2б). Створіть два обʼєкти цього класу, де один з обʼєктів створюється із дефолтним значенням атрибуту. На одному обʼєкті отримайте значення його атрибуту, а на іншому викличте один з його методів."
      ],
      "metadata": {
        "id": "X_UlOMB0L93w"
      }
    },
    {
      "cell_type": "code",
      "source": [
        "building_1 = Building(16, 2, False)\n",
        "building_2 = Building(16, 2)\n",
        "print(building_1.isConstructed())\n",
        "print(building_1) # str call"
      ],
      "metadata": {
        "id": "7gBu0ESOMCpG",
        "colab": {
          "base_uri": "https://localhost:8080/"
        },
        "outputId": "261603fd-0a4b-49eb-e02c-555524e8d54d"
      },
      "execution_count": 21,
      "outputs": [
        {
          "output_type": "stream",
          "name": "stdout",
          "text": [
            "False\n",
            "Building(floors='16', entrances=2, constructed=False)\n"
          ]
        }
      ]
    },
    {
      "cell_type": "markdown",
      "source": [
        "3. (5б). Створіть клас, де атрибути мають різні рівні доступу. Спробуйте отримати їхні значення та опишіть результати."
      ],
      "metadata": {
        "id": "HoqSCZt1MHn5"
      }
    },
    {
      "cell_type": "code",
      "source": [
        "class Human:\n",
        "  def __init__(self, ipn, card_n, cvv):\n",
        "    self.card_n = card_n\n",
        "    self._cvv = cvv\n",
        "    self.__ipn = ipn\n",
        "\n",
        "\n",
        "human = Human(\"000000\", \"4149\", \"0999\")\n",
        "print(human.card_n)\n",
        "print(human._cvv)\n",
        "print(human.__ipn)\n"
      ],
      "metadata": {
        "id": "r9b3vJxBMSPV",
        "colab": {
          "base_uri": "https://localhost:8080/",
          "height": 211
        },
        "outputId": "8b6ac231-02a0-4a5d-b1d5-81d9eefc0a8a"
      },
      "execution_count": 11,
      "outputs": [
        {
          "output_type": "stream",
          "name": "stdout",
          "text": [
            "4149\n",
            "0999\n"
          ]
        },
        {
          "output_type": "error",
          "ename": "AttributeError",
          "evalue": "'Human' object has no attribute '__ipn'",
          "traceback": [
            "\u001b[0;31m---------------------------------------------------------------------------\u001b[0m",
            "\u001b[0;31mAttributeError\u001b[0m                            Traceback (most recent call last)",
            "\u001b[0;32m<ipython-input-11-7f810e82db0a>\u001b[0m in \u001b[0;36m<cell line: 0>\u001b[0;34m()\u001b[0m\n\u001b[1;32m      8\u001b[0m \u001b[0mprint\u001b[0m\u001b[0;34m(\u001b[0m\u001b[0mhuman\u001b[0m\u001b[0;34m.\u001b[0m\u001b[0mcard_n\u001b[0m\u001b[0;34m)\u001b[0m\u001b[0;34m\u001b[0m\u001b[0;34m\u001b[0m\u001b[0m\n\u001b[1;32m      9\u001b[0m \u001b[0mprint\u001b[0m\u001b[0;34m(\u001b[0m\u001b[0mhuman\u001b[0m\u001b[0;34m.\u001b[0m\u001b[0m_cvv\u001b[0m\u001b[0;34m)\u001b[0m\u001b[0;34m\u001b[0m\u001b[0;34m\u001b[0m\u001b[0m\n\u001b[0;32m---> 10\u001b[0;31m \u001b[0mprint\u001b[0m\u001b[0;34m(\u001b[0m\u001b[0mhuman\u001b[0m\u001b[0;34m.\u001b[0m\u001b[0m__ipn\u001b[0m\u001b[0;34m)\u001b[0m\u001b[0;34m\u001b[0m\u001b[0;34m\u001b[0m\u001b[0m\n\u001b[0m",
            "\u001b[0;31mAttributeError\u001b[0m: 'Human' object has no attribute '__ipn'"
          ]
        }
      ]
    },
    {
      "cell_type": "markdown",
      "source": [
        "4. (7б). Як ви розумієте термін self? Для чого використовується метод __init __?"
      ],
      "metadata": {
        "id": "5op2m2vgMSkZ"
      }
    },
    {
      "cell_type": "markdown",
      "source": [
        "* self --- термін, що, по-суті, грає роль вказівника на контекст, а контекстом є конкретний екземпляр класу, об'єкт, *над яким* ми викликаємо певний метод.\n",
        "* `__init__` грає роль конструктора, власне, інціалізує клас. крім того, в цьому методі описані, які члени-змінні має клас."
      ],
      "metadata": {
        "id": "DyiPqNRvMasx"
      }
    },
    {
      "cell_type": "markdown",
      "source": [
        "5. (9б). Створіть клас 3D-фігура без атрибутів, з методом get_volume для отримання об'єму фігури, що повертає 0 та __add __, який приймає self та other в якості аргументів, а повертає суму об'ємів 3d-фігур self та other."
      ],
      "metadata": {
        "id": "-6X8EGfjMd2y"
      }
    },
    {
      "cell_type": "code",
      "source": [
        "class Figure3D:\n",
        "  def get_volume(self):\n",
        "    return 0\n",
        "\n",
        "  def __add__(self, other):\n",
        "    if isinstance(other, Figure3D): # type helper in the signature did not work for me :(\n",
        "      return self.get_volume() + other.get_volume()\n",
        "    return self.get_volume()\n",
        "\n",
        "\n",
        "figure = Figure3D()\n",
        "\n",
        "print(figure.get_volume())\n",
        "print(figure + figure)\n",
        "\n"
      ],
      "metadata": {
        "id": "4rvO_wYUMaEr",
        "colab": {
          "base_uri": "https://localhost:8080/"
        },
        "outputId": "a9faac18-ad7d-451c-9f68-4fe87afab826"
      },
      "execution_count": 19,
      "outputs": [
        {
          "output_type": "stream",
          "name": "stdout",
          "text": [
            "0\n",
            "0\n"
          ]
        }
      ]
    },
    {
      "cell_type": "markdown",
      "source": [
        "6. (11б). Створіть 2 дочірніх класи від 3d-фігура: Циліндр та Куб, які мають атрибути, необхідні для розрахунку об'єму. Визначте метод get_volume в кожному з них так, щоби вони розраховували об'єм у залежності від формули для кожного типу фігури. Створіть обʼєкт класу Циліндр та обʼєкт класу Куб. Виконайте операцію суми за допомогою оператора + між ними, аби знайти сумарний об'єм."
      ],
      "metadata": {
        "id": "SFcKnnv5Mo_z"
      }
    },
    {
      "cell_type": "code",
      "source": [
        "import math\n",
        "\n",
        "class Cylinder(Figure3D):\n",
        "  def __init__(self, r, h):\n",
        "    self.r = r\n",
        "    self.h = h\n",
        "\n",
        "  def get_volume(self):\n",
        "    return math.pi * self.r * self.r * self.h\n",
        "\n",
        "\n",
        "class Cube(Figure3D):\n",
        "  def __init__(self, a):\n",
        "    self.a = a\n",
        "\n",
        "  def get_volume(self):\n",
        "    return self.a ** 3\n",
        "\n",
        "\n",
        "cylinder = Cylinder(3, 5)\n",
        "cube = Cube(10)\n",
        "print(cylinder.get_volume())\n",
        "print(cube.get_volume())\n",
        "print(cylinder + cube)"
      ],
      "metadata": {
        "id": "H3GVNr69Muf3",
        "colab": {
          "base_uri": "https://localhost:8080/"
        },
        "outputId": "003ff557-53ec-4008-f23c-eab6931ecac2"
      },
      "execution_count": 29,
      "outputs": [
        {
          "output_type": "stream",
          "name": "stdout",
          "text": [
            "141.3716694115407\n",
            "1000\n",
            "1141.3716694115408\n"
          ]
        }
      ]
    },
    {
      "cell_type": "markdown",
      "source": [
        "7. (3б). Продемонструйте різницю між isinstance та issubclass."
      ],
      "metadata": {
        "id": "HCvR206YMvLK"
      }
    },
    {
      "cell_type": "code",
      "source": [
        "print(\"cylinider instance isinstance Figure3D: \", isinstance(cylinder, Figure3D))\n",
        "# print(\"Cylinider class isinstance Figure3D: \", isinstance(Cylinder, Figure3D)) # ERROR\n",
        "\n",
        "# print(\"cylinider instance issubclass Figure3D: \", issubclass(cylinder, Figure3D)) # ERROR\n",
        "print(\"Cylinider class issubclass Figure3D: \", issubclass(Cylinder, Figure3D)) # ERROR\n"
      ],
      "metadata": {
        "id": "L_V1bBvDM0GN",
        "colab": {
          "base_uri": "https://localhost:8080/"
        },
        "outputId": "3de44c1b-93a0-464d-e083-80fc8cc30cc1"
      },
      "execution_count": 34,
      "outputs": [
        {
          "output_type": "stream",
          "name": "stdout",
          "text": [
            "cylinider instance isinstance Figure3D:  True\n",
            "Cylinider class issubclass Figure3D:  True\n"
          ]
        }
      ]
    },
    {
      "cell_type": "markdown",
      "source": [
        "8. (13б). Створіть клас EWallet з приватними атрибутами balance та id. Реалізуйте методи поповнення та зняття коштів, забезпечивши належну інкапсуляцію. Підказка: використовуйте декоратори property та setter."
      ],
      "metadata": {
        "id": "jjsaBZ-iM0Qq"
      }
    },
    {
      "cell_type": "code",
      "source": [
        "class EWallet:\n",
        "  def __init__(self, id, start_balance = 0):\n",
        "    self__id = id\n",
        "    self.__balance = start_balance\n",
        "\n",
        "  @property\n",
        "  def balance(self):\n",
        "    return self.__balance\n",
        "\n",
        "  @balance.setter\n",
        "  def balance(self, n):\n",
        "    if n > 0:\n",
        "      self.__balance = n\n",
        "    return self.balance\n",
        "\n",
        "  def replenish(self, n):\n",
        "    if n > 0:\n",
        "      self.__balance += n\n",
        "    return self.balance\n",
        "\n",
        "  def withdraw(self, n):\n",
        "    if n > 0 and n <= self.balance:\n",
        "      self.__balance -= n\n",
        "    return self.balance\n",
        "\n",
        "\n",
        "wallet = EWallet(172)\n",
        "wallet.balance = 500\n",
        "wallet.withdraw(100)\n",
        "wallet.replenish(1000)\n",
        "print(wallet.balance)\n"
      ],
      "metadata": {
        "id": "xCvZ7lh8M7YA",
        "colab": {
          "base_uri": "https://localhost:8080/"
        },
        "outputId": "685f96fe-c0b3-44b4-dc49-1b633a95f0e1"
      },
      "execution_count": 40,
      "outputs": [
        {
          "output_type": "stream",
          "name": "stdout",
          "text": [
            "1400\n"
          ]
        }
      ]
    },
    {
      "cell_type": "markdown",
      "source": [
        "9. (11б). Створіть клас ShoppingCart, який містить список об'єктів типу Item. Реалізуйте методи для додавання айтемів, їх видалення та відображення списку айтемів."
      ],
      "metadata": {
        "id": "tIzL2SJTM8ft"
      }
    },
    {
      "cell_type": "code",
      "source": [
        "import copy\n",
        "\n",
        "class Item:\n",
        "  def __init__(self, name, barcode, ppu, count = 1):\n",
        "    self.name =  name\n",
        "    self.barcode = barcode\n",
        "    self.count = count\n",
        "    self.ppu = ppu\n",
        "\n",
        "  def __mul__(self, other):\n",
        "      cpy = copy.copy(self)\n",
        "      cpy.count *= other\n",
        "      return cpy\n",
        "\n",
        "  __rmul__ = __mul__\n",
        "\n",
        "  def __str__(self):\n",
        "    return f\"{self.name}\\n\\t\\t {self.ppu}$ x {self.count} = {self.ppu * self.count}\"\n",
        "\n",
        "\n",
        "\n",
        "class ShoppingCart:\n",
        "  def __init__(self):\n",
        "    self.__items = {}\n",
        "\n",
        "  def add_item(self, item):\n",
        "    if item.barcode in self.__items:\n",
        "      self.__items[item.barcode].count += item.count\n",
        "    else:\n",
        "      self.__items[item.barcode] = item\n",
        "\n",
        "  def del_item(self, barcode):\n",
        "    del self.__items[barcode]\n",
        "\n",
        "  def list_items(self):\n",
        "    items_list = []\n",
        "    for v in self.__items.values():\n",
        "      items_list.append(str(v))\n",
        "    return items_list\n",
        "\n",
        "  def show(self):\n",
        "    for item in self.list_items():\n",
        "      print(item)\n",
        "\n",
        "\n",
        "apple = Item(\"apple\", \"1111\", 10)\n",
        "banana = Item(\"banana\", \"2222\", 50)\n",
        "watermelon = Item(\"watermelon\", \"9999\", 0.5)\n",
        "\n",
        "shopping_cart = ShoppingCart()\n",
        "shopping_cart.add_item(apple)\n",
        "shopping_cart.add_item(banana * 5)\n",
        "shopping_cart.add_item(watermelon)\n",
        "\n",
        "shopping_cart.show()\n",
        "\n",
        "shopping_cart.del_item(watermelon.barcode)\n",
        "print(\"After removal:\")\n",
        "shopping_cart.show()\n",
        "\n",
        "\n",
        "\n"
      ],
      "metadata": {
        "id": "HWxfJKLtNAUZ",
        "colab": {
          "base_uri": "https://localhost:8080/"
        },
        "outputId": "38b7aa58-759b-471e-ae8d-5a149f0fcbea"
      },
      "execution_count": 56,
      "outputs": [
        {
          "output_type": "stream",
          "name": "stdout",
          "text": [
            "apple\n",
            "\t\t 10$ x 1 = 10\n",
            "banana\n",
            "\t\t 50$ x 5 = 250\n",
            "watermelon\n",
            "\t\t 0.5$ x 1 = 0.5\n",
            "After removal:\n",
            "apple\n",
            "\t\t 10$ x 1 = 10\n",
            "banana\n",
            "\t\t 50$ x 5 = 250\n"
          ]
        }
      ]
    },
    {
      "cell_type": "markdown",
      "source": [
        "10. (13б). Створіть клас Vehicle з атрибутами brand (manufacturer) та production_age. Створіть ще один клас Engine з такими атрибутами, як type (ex. petrol) та size (volume, litres). Створіть клас Car, який успадковує обидва класи Vehicle та Engine. Продемонструйте використання множинної спадковості, створивши обʼєкт класу Car та отримавши mro для цього класу."
      ],
      "metadata": {
        "id": "lmV8pAwwNIqu"
      }
    },
    {
      "cell_type": "code",
      "source": [
        "class Vehicle:\n",
        "    def __init__(self, brand, production_age):\n",
        "        self.brand = brand\n",
        "        self.production_age = production_age\n",
        "\n",
        "    def __str__(self):\n",
        "        return f\"Vehicle({self.brand}, {self.production_age})\"\n",
        "\n",
        "\n",
        "class Engine:\n",
        "    def __init__(self, engine_type, size):\n",
        "        self.engine_type = engine_type\n",
        "        self.size = size\n",
        "\n",
        "    def __str__(self):\n",
        "        return f\"Engine({self.engine_type}, {self.size})\"\n",
        "\n",
        "\n",
        "class Car(Vehicle, Engine):\n",
        "    def __init__(self, brand, production_age, type, size):\n",
        "        Vehicle.__init__(self, brand, production_age)\n",
        "        Engine.__init__(self, type, size)\n",
        "\n",
        "    def __str__(self):\n",
        "        return f\"Car({Vehicle.__str__(self)}, {Engine.__str__(self)})\" # i found out how to call specific str realization!\n",
        "\n",
        "\n",
        "car = Car(\"Toyota\", 100, \"petrol\", 20.0)\n",
        "print(car)\n",
        "print(Car.mro())"
      ],
      "metadata": {
        "id": "R49grKlWNPeN",
        "colab": {
          "base_uri": "https://localhost:8080/"
        },
        "outputId": "97bbac8d-0e00-4931-c615-aceeaf50cb86"
      },
      "execution_count": 63,
      "outputs": [
        {
          "output_type": "stream",
          "name": "stdout",
          "text": [
            "Car(Vehicle(Toyota, 100), Engine(petrol, 20.0))\n",
            "[<class '__main__.Car'>, <class '__main__.Vehicle'>, <class '__main__.Engine'>, <class 'object'>]\n"
          ]
        }
      ]
    },
    {
      "cell_type": "markdown",
      "source": [
        "# II. Iterator"
      ],
      "metadata": {
        "id": "dIJyUiNBFG8G"
      }
    },
    {
      "cell_type": "markdown",
      "source": [
        "11. (4б). Визначте рядок(str) з 4ма різними за значенням символами. Створіть ітератор на основі цього рядка. Викличте 5 разів функцію next на ітераторі, 4ри перших з них огорніть у ф-цію print()."
      ],
      "metadata": {
        "id": "13vsm0NyKIzL"
      }
    },
    {
      "cell_type": "code",
      "source": [
        "custom_string = \"1234\"\n",
        "custom_string_iterator = iter(custom_string)\n",
        "print(next(custom_string_iterator))\n",
        "print(next(custom_string_iterator))\n",
        "print(next(custom_string_iterator))\n",
        "print(next(custom_string_iterator))\n",
        "\n",
        "# next(custom_string_iterator)\n",
        "\n",
        "try:\n",
        "  next(custom_string_iterator)\n",
        "except StopIteration:\n",
        "  print(\"oh no, oh no, oh no no no\")"
      ],
      "metadata": {
        "id": "81ntabAkKuz-",
        "colab": {
          "base_uri": "https://localhost:8080/"
        },
        "outputId": "1b813b91-1d97-4c99-a444-e40c2342bb6a"
      },
      "execution_count": 69,
      "outputs": [
        {
          "output_type": "stream",
          "name": "stdout",
          "text": [
            "1\n",
            "2\n",
            "3\n",
            "4\n",
            "oh no, oh no, oh no no no\n"
          ]
        }
      ]
    },
    {
      "cell_type": "markdown",
      "source": [
        "А що якщо викликати цю ж функцію на рядку?"
      ],
      "metadata": {
        "id": "aekWHGXOLRsO"
      }
    },
    {
      "cell_type": "code",
      "source": [
        "next(custom_string) # no 'next' for strings\n",
        "custom_string.next() # no 'next' for strings"
      ],
      "metadata": {
        "id": "mxATGsErLV1i",
        "colab": {
          "base_uri": "https://localhost:8080/",
          "height": 159
        },
        "outputId": "580e7339-f6d3-4a8a-8368-d575d6a922a6"
      },
      "execution_count": 71,
      "outputs": [
        {
          "output_type": "error",
          "ename": "TypeError",
          "evalue": "'str' object is not an iterator",
          "traceback": [
            "\u001b[0;31m---------------------------------------------------------------------------\u001b[0m",
            "\u001b[0;31mTypeError\u001b[0m                                 Traceback (most recent call last)",
            "\u001b[0;32m<ipython-input-71-748a557209dc>\u001b[0m in \u001b[0;36m<cell line: 0>\u001b[0;34m()\u001b[0m\n\u001b[0;32m----> 1\u001b[0;31m \u001b[0mnext\u001b[0m\u001b[0;34m(\u001b[0m\u001b[0mcustom_string\u001b[0m\u001b[0;34m)\u001b[0m\u001b[0;34m\u001b[0m\u001b[0;34m\u001b[0m\u001b[0m\n\u001b[0m\u001b[1;32m      2\u001b[0m \u001b[0mcustom_string\u001b[0m\u001b[0;34m.\u001b[0m\u001b[0mnext\u001b[0m\u001b[0;34m(\u001b[0m\u001b[0;34m)\u001b[0m \u001b[0;31m# no 'next' for strings\u001b[0m\u001b[0;34m\u001b[0m\u001b[0;34m\u001b[0m\u001b[0m\n",
            "\u001b[0;31mTypeError\u001b[0m: 'str' object is not an iterator"
          ]
        }
      ]
    },
    {
      "cell_type": "markdown",
      "source": [
        " 12. (5б). Опишіть своїми словами в одному реченні, як ви розумієте різницю між ітерабельними обʼєктами та ітераторами (можна на прикладі)."
      ],
      "metadata": {
        "id": "XwtMEopwJ4pH"
      }
    },
    {
      "cell_type": "markdown",
      "source": [
        "Ітератор --- це інтерфейс для роботи з різними ітерабельними об'єктами (як стрінга), його можна збільшувати, при збільшені він повертає значення, а інтерабельний об'єкт --- це контейнер, щось, що зберігає об'єкти, це \"щось\" не реалізує інтерфейс ітератора, тому некст на нього не викличеш, проте воно дає змогу створити окремий об'єкт --- ітератор, для того, що зберігає цей контейнер."
      ],
      "metadata": {
        "id": "-sHrODc3KFn8"
      }
    },
    {
      "cell_type": "markdown",
      "source": [
        "13. (11б). Створіть клас, що має визначений Iterator Protocol та при кожному виклику next повертає назву дня тижня, поки вони не вичерпаються. Зверніть увагу, що порядок має значення."
      ],
      "metadata": {
        "id": "E9qJWmNbK8Gl"
      }
    },
    {
      "cell_type": "code",
      "source": [
        "class DayNameIterator:\n",
        "  def __init__(self):\n",
        "    self.__days = [\"Monday\", \"Tuesday\", \"Wednesday\", \"Thursday\", \"Frieday\", \"Saturday\", \"Sunday\"]\n",
        "    self.__index = 0\n",
        "\n",
        "  def __iter__(self):\n",
        "    return self\n",
        "\n",
        "  def __next__(self):\n",
        "    if self.__index >= len(self.__days):\n",
        "      raise StopIteration\n",
        "    day = self.__days[self.__index]\n",
        "    self.__index += 1\n",
        "    return day\n",
        "\n",
        "\n",
        "day_name_iterator = DayNameIterator()\n",
        "print(next(day_name_iterator))\n",
        "print(next(day_name_iterator))\n",
        "print(next(day_name_iterator))\n",
        "print(next(day_name_iterator))\n",
        "print(next(day_name_iterator))\n",
        "print(next(day_name_iterator))\n",
        "print(next(day_name_iterator))\n",
        "# print(next(day_name_iterator)) prints error, 8th\n"
      ],
      "metadata": {
        "id": "cqx-g_RsLo6I",
        "colab": {
          "base_uri": "https://localhost:8080/"
        },
        "outputId": "9bf7ee1d-a2ce-40ed-bdcc-faf9fc8c8f3b"
      },
      "execution_count": 75,
      "outputs": [
        {
          "output_type": "stream",
          "name": "stdout",
          "text": [
            "Monday\n",
            "Tuesday\n",
            "Wednesday\n",
            "Thursday\n",
            "Frieday\n",
            "Saturday\n",
            "Sunday\n"
          ]
        }
      ]
    },
    {
      "cell_type": "markdown",
      "source": [
        "# Вітаю! Ви велика(ий) молодець, що впоралась(вся). Похваліть себе та побалуйте чимось приємним. Я Вами пишаюся."
      ],
      "metadata": {
        "id": "Z3E3S_s1Fv7-"
      }
    }
  ]
}